{
 "cells": [
  {
   "cell_type": "code",
   "execution_count": null,
   "metadata": {
    "collapsed": true
   },
   "outputs": [],
   "source": [
    "import numpy as np\n",
    "import pandas as pd\n",
    "import hashlib"
   ]
  },
  {
   "cell_type": "code",
   "execution_count": null,
   "metadata": {
    "collapsed": true
   },
   "outputs": [],
   "source": [
    "# utils\n",
    "## chinese decode \n",
    "def cn(s):\n",
    "#     return s.decode('utf8')\n",
    "    return s\n",
    "## 字符串类型转换为类别的数字编码\n",
    "dict_short_url  = {'init':0} #和短地址一样，统一记录使用过的int\n",
    "dict_short_url_index = {0: 'init'}\n",
    "def getShortUrl(s):\n",
    "    # 未记录，则添加记录\n",
    "    if dict_short_url.has_key(s) == False:\n",
    "        dict_short_url[s] = max(dict_short_url.values())+1\n",
    "        dict_short_url_index[dict_short_url[s]] = s\n",
    "    return dict_short_url[s]"
   ]
  },
  {
   "cell_type": "code",
   "execution_count": null,
   "metadata": {
    "collapsed": false
   },
   "outputs": [],
   "source": [
    "# read data\n",
    "# trainData means rawdata, X_train means cross_validation data\n",
    "# trainData = pd.merge(pd.read_csv(cn('E:\\\\work\\\\联通+旅游\\\\data\\\\1\\\\train_x.csv'),encoding=\"gb2312\"), pd.read_csv(cn('E:\\\\work\\\\联通+旅游\\\\data\\\\1\\\\train_y.csv'),encoding=\"gb2312\"), on=cn('用户标识'))\n",
    "# testData = pd.read_csv(cn('E:\\\\work\\\\联通+旅游\\\\data\\\\1\\\\test_x.csv'),encoding=\"gb2312\")\n",
    "# trainData = pd.merge(pd.read_csv('/data/topic1/train_x.csv'), pd.read_csv('/data/topic1/train_y.csv'), on='用户标识')\n",
    "trainData = pd.merge(pd.read_csv('/data/topic1/train_x.csv'), pd.read_csv('/data/topic1/train_y.csv'), on='用户标识')\n",
    "testData = pd.read_csv('/data/topic1/test_x.csv')"
   ]
  },
  {
   "cell_type": "code",
   "execution_count": null,
   "metadata": {
    "collapsed": true
   },
   "outputs": [],
   "source": [
    "# 缺失值处理\n",
    "trainData.fillna(0, inplace=True)\n",
    "testData.fillna(0, inplace=True)"
   ]
  },
  {
   "cell_type": "markdown",
   "metadata": {},
   "source": [
    "## app总点击数"
   ]
  },
  {
   "cell_type": "code",
   "execution_count": null,
   "metadata": {
    "collapsed": false
   },
   "outputs": [],
   "source": [
    "# trainData['count_app_pv'] = trainData.iloc[:, 8:308].apply(lambda x: sum(x), axis=1)\n",
    "# testData['count_app_pv'] = testData.iloc[:, 8:308].apply(lambda x: sum(x), axis=1)"
   ]
  },
  {
   "cell_type": "code",
   "execution_count": null,
   "metadata": {
    "collapsed": false
   },
   "outputs": [],
   "source": [
    "# # trainData[[cn('用户标识'), 'count_app_pv']].to_csv(cn('E:\\\\work\\\\联通+旅游\\\\data\\\\1\\\\feature_countapppv.csv'),encoding=\"gb2312\",index=False)\n",
    "# # testData[[cn('用户标识'), 'count_app_pv']].to_csv(cn('E:\\\\work\\\\联通+旅游\\\\data\\\\1\\\\feature_test_countapppv.csv'),encoding=\"gb2312\",index=False)\n",
    "# trainData[[cn('用户标识'), 'count_app_pv']].to_csv(cn('/data/topic1/feature_countapppv.csv'),index=False)\n",
    "# testData[[cn('用户标识'), 'count_app_pv']].to_csv(cn('/data/topic1/feature_test_countapppv.csv'),index=False)"
   ]
  },
  {
   "cell_type": "markdown",
   "metadata": {},
   "source": [
    "## app数量"
   ]
  },
  {
   "cell_type": "code",
   "execution_count": null,
   "metadata": {
    "collapsed": false
   },
   "outputs": [],
   "source": [
    "# trainData['count_app'] = trainData.iloc[:, 8:308].apply(lambda x: len(x[x>0]), axis=1)\n",
    "# testData['count_app'] = testData.iloc[:, 8:308].apply(lambda x: len(x[x>0]), axis=1)"
   ]
  },
  {
   "cell_type": "code",
   "execution_count": null,
   "metadata": {
    "collapsed": false
   },
   "outputs": [],
   "source": [
    "# # trainData[[cn('用户标识'), 'count_app']].to_csv(cn('E:\\\\work\\\\联通+旅游\\\\data\\\\1\\\\feature_countapp.csv'),encoding=\"gb2312\",index=False)\n",
    "# # testData[[cn('用户标识'), 'count_app']].to_csv(cn('E:\\\\work\\\\联通+旅游\\\\data\\\\1\\\\feature_test_countapp.csv'),encoding=\"gb2312\",index=False)\n",
    "# trainData[[cn('用户标识'), 'count_app']].to_csv(cn('/data/topic1/feature_countapp.csv'),index=False)\n",
    "# testData[[cn('用户标识'), 'count_app']].to_csv(cn('/data/topic1/feature_test_countapp.csv'),index=False)"
   ]
  },
  {
   "cell_type": "markdown",
   "metadata": {},
   "source": [
    "## 漫出省份数量"
   ]
  },
  {
   "cell_type": "code",
   "execution_count": null,
   "metadata": {
    "collapsed": false
   },
   "outputs": [],
   "source": [
    "# # trainData['count_app'] = trainData.iloc[:, 8:308].apply(lambda x: len(x[x>0]), axis=1)\n",
    "# # testData['count_app'] = testData.iloc[:, 8:308].apply(lambda x: len(x[x>0]), axis=1)\n",
    "# def getOutProvince(x):\n",
    "#     if x == '无':\n",
    "#         return 0\n",
    "#     return len(x.split(','))\n",
    "# trainData['count_out_province'] = trainData[cn('漫出省份')].apply(getOutProvince)\n",
    "# testData['count_out_province'] = testData[cn('漫出省份')].apply(getOutProvince)"
   ]
  },
  {
   "cell_type": "code",
   "execution_count": null,
   "metadata": {
    "collapsed": true
   },
   "outputs": [],
   "source": [
    "# trainData[['用户标识', 'count_out_province']].to_csv('/data/topic1/feature_countoutprovince.csv',index=False)\n",
    "# testData[['用户标识', 'count_out_province']].to_csv('/data/topic1/feature_test_countoutprovince.csv',index=False)"
   ]
  },
  {
   "cell_type": "markdown",
   "metadata": {},
   "source": [
    "## 网站点击数"
   ]
  },
  {
   "cell_type": "code",
   "execution_count": null,
   "metadata": {
    "collapsed": true
   },
   "outputs": [],
   "source": [
    "# trainData['count_web_pv'] = trainData[trainData.columns[313:-1]].apply(lambda x: sum(x), axis=1)\n",
    "# testData['count_web_pv'] = testData[testData.columns[313:]].apply(lambda x: sum(x), axis=1)"
   ]
  },
  {
   "cell_type": "code",
   "execution_count": null,
   "metadata": {
    "collapsed": true
   },
   "outputs": [],
   "source": [
    "# trainData[[cn('用户标识'), 'count_web_pv']].to_csv(cn('/data/topic1/feature_countwebpv.csv'),index=False)\n",
    "# testData[[cn('用户标识'), 'count_web_pv']].to_csv(cn('/data/topic1/feature_test_countwebpv.csv'),index=False)"
   ]
  },
  {
   "cell_type": "markdown",
   "metadata": {},
   "source": [
    "## 网站点击数"
   ]
  },
  {
   "cell_type": "code",
   "execution_count": null,
   "metadata": {
    "collapsed": true
   },
   "outputs": [],
   "source": [
    "# # 注意这里用到了-1，所以不能与上面的同时用，后向插入的会影响\n",
    "# trainData['count_web'] = trainData[trainDaata.columns[313:-1]].apply(lambda x: len(x[x>0]), axis=1)\n",
    "# testData['count_web'] = testData[testData.columns[313:]].apply(lambda x: len(x[x>0]), axis=1)"
   ]
  },
  {
   "cell_type": "code",
   "execution_count": null,
   "metadata": {
    "collapsed": true
   },
   "outputs": [],
   "source": [
    "# trainData[[cn('用户标识'), 'count_web']].to_csv(cn('/data/topic1/feature_countweb.csv'),index=False)\n",
    "# testData[[cn('用户标识'), 'count_web']].to_csv(cn('/data/topic1/feature_test_countweb.csv'),index=False)"
   ]
  },
  {
   "cell_type": "markdown",
   "metadata": {},
   "source": [
    "## 哈希特征"
   ]
  },
  {
   "cell_type": "code",
   "execution_count": null,
   "metadata": {
    "collapsed": true
   },
   "outputs": [],
   "source": [
    "# print 'go_hash'\n",
    "# def hashstr(input):\n",
    "#     return str(int(hashlib.md5(input.encode('utf8')).hexdigest(), 16)%(1000000-1)+1)\n",
    "# def getHash(x):\n",
    "#     s = ''\n",
    "#     for i in range(len(x)):\n",
    "#         if x[i]>0:\n",
    "#             s += str(i) + ','\n",
    "#     return hashstr(s)"
   ]
  },
  {
   "cell_type": "code",
   "execution_count": null,
   "metadata": {
    "collapsed": true
   },
   "outputs": [],
   "source": [
    "# # app hash\n",
    "# trainData['hash_app'] = trainData[trainData.columns[8:308]].apply(getHash, axis=1)\n",
    "# testData['hash_app'] = testData[testData.columns[8:308]].apply(getHash, axis=1)\n",
    "# trainData[['用户标识', 'hash_app']].to_csv(cn('/data/topic1/feature_hashapp.csv'),index=False)\n",
    "# testData[['用户标识', 'hash_app']].to_csv(cn('/data/topic1/feature_test_hashapp.csv'),index=False)"
   ]
  },
  {
   "cell_type": "code",
   "execution_count": null,
   "metadata": {
    "collapsed": true
   },
   "outputs": [],
   "source": [
    "# # web hash\n",
    "# trainData['hash_web'] = trainData[trainData.columns[313:]].apply(getHash, axis=1)\n",
    "# testData['hash_web'] = testData[testData.columns[313:]].apply(getHash, axis=1)\n",
    "# trainData[[cn('用户标识'), 'hash_web']].to_csv(cn('/data/topic1/feature_hashweb.csv'),index=False)\n",
    "# testData[[cn('用户标识'), 'hash_web']].to_csv(cn('/data/topic1/feature_test_hashweb.csv'),index=False)"
   ]
  },
  {
   "cell_type": "markdown",
   "metadata": {},
   "source": [
    "## 是否使用地图等特征"
   ]
  },
  {
   "cell_type": "code",
   "execution_count": null,
   "metadata": {
    "collapsed": true
   },
   "outputs": [],
   "source": [
    "# dict_group={'地图':['苹果地图','GoogleMap','谷歌地图','地图','百度导航','百度地图','高德导航','高德地图','腾讯地图']}\n",
    "# dict_group['天气'] = ['天气','天气通','2345天气王','the weather','墨迹天气','实时天气','中国天气']\n",
    "# # dict_group['餐饮团购'] = ['星巴克中国','美团网','糯米团购','百度糯米','大众点评','美团']\n",
    "# dict_group['住宿旅游'] = ['去哪儿生活','携程旅行','易游人','阿里旅行','去哪儿旅行','同程旅游']\n",
    "# dict_group['票务'] = ['格瓦拉','大麦']\n",
    "# dict_group['旅游运输'] = ['嘀嘀打车','高铁管家','航旅纵横','车轮查违章','嘀嗒拼车','滴滴司机-专车','快的打车','全国违章查询','易到用车']\n",
    "# # dict_group['社交媒体'] = ['qq空间','新浪微博']\n",
    "# # dict_group['拍照'] = ['女孩相机','百度魔图','天天P图','拍客','拼立得','美图秀秀','autocad 360','潮自拍']\n",
    "# # dict_group['家庭'] = ['篱笆社区','PREGNANCY','宝贝故事','厨房故事食谱','儿歌多多','妈妈圈','完美孕妇','宝宝树孕育','阿姨帮']\n",
    "# # dict_group['妈妈'] = ['PREGNANCY','宝贝故事','儿歌多多','妈妈圈','完美孕妇','宝宝树孕育']\n",
    "# dict_group['孕妇'] = ['PREGNANCY','妈妈圈','完美孕妇','宝宝树孕育']\n",
    "# dict_group['恋爱约会'] = ['交友乐园','探探','花田','陌陌','微爱']\n",
    "# dict_group['漫画'] = ['有杀气童话','爱奇艺动画屋','和动漫','漫画岛','新浪微漫画']"
   ]
  },
  {
   "cell_type": "code",
   "execution_count": null,
   "metadata": {
    "collapsed": true
   },
   "outputs": [],
   "source": [
    "# def if_group(x):\n",
    "#     for i in range(len(x)):\n",
    "#         if x[i] > 0:\n",
    "#             return 1\n",
    "#     return 0"
   ]
  },
  {
   "cell_type": "code",
   "execution_count": null,
   "metadata": {
    "collapsed": true
   },
   "outputs": [],
   "source": [
    "# # 训练集\n",
    "# trainData['if_group_map'] = trainData[dict_group['地图']].apply(if_group, axis=1)\n",
    "# trainData['if_group_weather'] = trainData[dict_group['天气']].apply(if_group, axis=1)\n",
    "# # trainData['if_group_food'] = trainData[dict_group['餐饮团购']].apply(if_group, axis=1)\n",
    "# trainData['if_group_hotel'] = trainData[dict_group['住宿旅游']].apply(if_group, axis=1)\n",
    "# trainData['if_group_ticket'] = trainData[dict_group['票务']].apply(if_group, axis=1)\n",
    "# trainData['if_group_traffic'] = trainData[dict_group['旅游运输']].apply(if_group, axis=1)\n",
    "# # trainData['if_group_social'] = trainData[dict_group['社交媒体']].apply(if_group, axis=1)\n",
    "# # trainData['if_group_camera'] = trainData[dict_group['拍照']].apply(if_group, axis=1)\n",
    "# # trainData['if_group_family'] = trainData[dict_group['家庭']].apply(if_group, axis=1)\n",
    "# # trainData['if_group_mam'] = trainData[dict_group['妈妈']].apply(if_group, axis=1)\n",
    "# trainData['if_group_pregnant'] = trainData[dict_group['孕妇']].apply(if_group, axis=1)\n",
    "# trainData['if_group_fff'] = trainData[dict_group['恋爱约会']].apply(if_group, axis=1)\n",
    "# # trainData['if_group_cartoon'] = trainData[dict_group['漫画']].apply(if_group, axis=1)\n",
    "# # 测试架\n",
    "# testData['if_group_map'] = testData[dict_group['地图']].apply(if_group, axis=1)\n",
    "# testData['if_group_weather'] = testData[dict_group['天气']].apply(if_group, axis=1)\n",
    "# testData['if_group_hotel'] = testData[dict_group['住宿旅游']].apply(if_group, axis=1)\n",
    "# testData['if_group_ticket'] = testData[dict_group['票务']].apply(if_group, axis=1)\n",
    "# testData['if_group_traffic'] = testData[dict_group['旅游运输']].apply(if_group, axis=1)\n",
    "# testData['if_group_pregnant'] = testData[dict_group['孕妇']].apply(if_group, axis=1)\n",
    "# testData['if_group_fff'] = testData[dict_group['恋爱约会']].apply(if_group, axis=1)"
   ]
  },
  {
   "cell_type": "code",
   "execution_count": null,
   "metadata": {
    "collapsed": true
   },
   "outputs": [],
   "source": [
    "# temp = trainData[['用户标识','是否去过迪士尼','if_group_cartoon']]\n",
    "# temp.groupby('if_group_cartoon').sum()/temp.groupby('if_group_cartoon').count()"
   ]
  },
  {
   "cell_type": "code",
   "execution_count": null,
   "metadata": {
    "collapsed": false
   },
   "outputs": [],
   "source": [
    "# # 写入csv\n",
    "# ## 训练集\n",
    "# trainData[['用户标识','if_group_map']].to_csv('/data/topic1/feature_groupmap',index=False)\n",
    "# trainData[['用户标识','if_group_weather']].to_csv('/data/topic1/feature_groupweather',index=False)\n",
    "# trainData[['用户标识','if_group_hotel']].to_csv('/data/topic1/feature_grouphotel',index=False)\n",
    "# trainData[['用户标识','if_group_ticket']].to_csv('/data/topic1/feature_groupticket',index=False)\n",
    "# trainData[['用户标识','if_group_traffic']].to_csv('/data/topic1/feature_grouptraffic',index=False)\n",
    "# trainData[['用户标识','if_group_pregnant']].to_csv('/data/topic1/feature_grouppregnant',index=False)\n",
    "# trainData[['用户标识','if_group_fff']].to_csv('/data/topic1/feature_groupfff',index=False)\n",
    "# ## 测试集\n",
    "# testData[['用户标识','if_group_map']].to_csv('/data/topic1/feature_test_groupmap',index=False)\n",
    "# testData[['用户标识','if_group_weather']].to_csv('/data/topic1/feature_test_groupweather',index=False)\n",
    "# testData[['用户标识','if_group_hotel']].to_csv('/data/topic1/feature_test_grouphotel',index=False)\n",
    "# testData[['用户标识','if_group_ticket']].to_csv('/data/topic1/feature_test_groupticket',index=False)\n",
    "# testData[['用户标识','if_group_traffic']].to_csv('/data/topic1/feature_test_grouptraffic',index=False)\n",
    "# testData[['用户标识','if_group_pregnant']].to_csv('/data/topic1/feature_test_grouppregnant',index=False)\n",
    "# testData[['用户标识','if_group_fff']].to_csv('/data/topic1/feature_test_groupfff',index=False)"
   ]
  },
  {
   "cell_type": "markdown",
   "metadata": {},
   "source": [
    "## 是否使用地图等特征(count化)"
   ]
  },
  {
   "cell_type": "code",
   "execution_count": null,
   "metadata": {
    "collapsed": true
   },
   "outputs": [],
   "source": [
    "# dict_group={'地图':['苹果地图','GoogleMap','谷歌地图','地图','百度导航','百度地图','高德导航','高德地图','腾讯地图']}\n",
    "# dict_group['天气'] = ['天气','天气通','2345天气王','the weather','墨迹天气','实时天气','中国天气']\n",
    "# dict_group['住宿旅游'] = ['去哪儿生活','携程旅行','易游人','阿里旅行','去哪儿旅行','同程旅游']\n",
    "# dict_group['票务'] = ['格瓦拉','大麦']\n",
    "# dict_group['旅游运输'] = ['嘀嘀打车','高铁管家','航旅纵横','车轮查违章','嘀嗒拼车','滴滴司机-专车','快的打车','全国违章查询','易到用车']\n",
    "# dict_group['孕妇'] = ['PREGNANCY','妈妈圈','完美孕妇','宝宝树孕育']\n",
    "# dict_group['恋爱约会'] = ['交友乐园','探探','花田','陌陌','微爱']\n",
    "# dict_group['漫画'] = ['有杀气童话','爱奇艺动画屋','和动漫','漫画岛','新浪微漫画']"
   ]
  },
  {
   "cell_type": "code",
   "execution_count": null,
   "metadata": {
    "collapsed": true
   },
   "outputs": [],
   "source": [
    "# def count_group(x):\n",
    "#     return sum(x)"
   ]
  },
  {
   "cell_type": "code",
   "execution_count": null,
   "metadata": {
    "collapsed": true
   },
   "outputs": [],
   "source": [
    "# # 训练集\n",
    "# trainData['count_group_map'] = trainData[dict_group['地图']].apply(count_group, axis=1)\n",
    "# trainData['count_group_weather'] = trainData[dict_group['天气']].apply(count_group, axis=1)\n",
    "# trainData['count_group_hotel'] = trainData[dict_group['住宿旅游']].apply(count_group, axis=1)\n",
    "# trainData['count_group_ticket'] = trainData[dict_group['票务']].apply(count_group, axis=1)\n",
    "# trainData['count_group_traffic'] = trainData[dict_group['旅游运输']].apply(count_group, axis=1)\n",
    "# trainData['count_group_pregnant'] = trainData[dict_group['孕妇']].apply(count_group, axis=1)\n",
    "# trainData['count_group_fff'] = trainData[dict_group['恋爱约会']].apply(count_group, axis=1)\n",
    "# # 测试集\n",
    "# testData['count_group_map'] = testData[dict_group['地图']].apply(count_group, axis=1)\n",
    "# testData['count_group_weather'] = testData[dict_group['天气']].apply(count_group, axis=1)\n",
    "# testData['count_group_hotel'] = testData[dict_group['住宿旅游']].apply(count_group, axis=1)\n",
    "# testData['count_group_ticket'] = testData[dict_group['票务']].apply(count_group, axis=1)\n",
    "# testData['count_group_traffic'] = testData[dict_group['旅游运输']].apply(count_group, axis=1)\n",
    "# testData['count_group_pregnant'] = testData[dict_group['孕妇']].apply(count_group, axis=1)\n",
    "# testData['count_group_fff'] = testData[dict_group['恋爱约会']].apply(count_group, axis=1)"
   ]
  },
  {
   "cell_type": "code",
   "execution_count": null,
   "metadata": {
    "collapsed": true
   },
   "outputs": [],
   "source": [
    "# # 写入csv\n",
    "# ## 训练集\n",
    "# trainData[['用户标识','count_group_map']].to_csv('/data/topic1/feature_countgroupmap',index=False)\n",
    "# trainData[['用户标识','count_group_weather']].to_csv('/data/topic1/feature_countgroupweather',index=False)\n",
    "# trainData[['用户标识','count_group_hotel']].to_csv('/data/topic1/feature_countgrouphotel',index=False)\n",
    "# trainData[['用户标识','count_group_ticket']].to_csv('/data/topic1/feature_countgroupticket',index=False)\n",
    "# trainData[['用户标识','count_group_traffic']].to_csv('/data/topic1/feature_countgrouptraffic',index=False)\n",
    "# trainData[['用户标识','count_group_pregnant']].to_csv('/data/topic1/feature_countgrouppregnant',index=False)\n",
    "# trainData[['用户标识','count_group_fff']].to_csv('/data/topic1/feature_countgroupfff',index=False)\n",
    "# ## 测试集\n",
    "# testData[['用户标识','count_group_map']].to_csv('/data/topic1/feature_test_countgroupmap',index=False)\n",
    "# testData[['用户标识','count_group_weather']].to_csv('/data/topic1/feature_test_countgroupweather',index=False)\n",
    "# testData[['用户标识','count_group_hotel']].to_csv('/data/topic1/feature_test_countgrouphotel',index=False)\n",
    "# testData[['用户标识','count_group_ticket']].to_csv('/data/topic1/feature_test_countgroupticket',index=False)\n",
    "# testData[['用户标识','count_group_traffic']].to_csv('/data/topic1/feature_test_countgrouptraffic',index=False)\n",
    "# testData[['用户标识','count_group_pregnant']].to_csv('/data/topic1/feature_test_countgrouppregnant',index=False)\n",
    "# testData[['用户标识','count_group_fff']].to_csv('/data/topic1/feature_test_countgroupfff',index=False)"
   ]
  },
  {
   "cell_type": "markdown",
   "metadata": {},
   "source": [
    "## 漫出省份"
   ]
  },
  {
   "cell_type": "code",
   "execution_count": null,
   "metadata": {
    "collapsed": true
   },
   "outputs": [],
   "source": [
    "# trainData[['用户标识', 'hainan','shanghai','neimenggu','xizang','gansu','henan']].to_csv('/data/topic1/feature_outprovince.csv',index=False)\n",
    "# testData[['用户标识', 'hainan','shanghai','neimenggu','xizang','gansu','henan']].to_csv('/data/topic1/feature_test_outprovince.csv',index=False)"
   ]
  },
  {
   "cell_type": "markdown",
   "metadata": {},
   "source": [
    "## topweb"
   ]
  },
  {
   "cell_type": "code",
   "execution_count": null,
   "metadata": {
    "collapsed": true
   },
   "outputs": [],
   "source": [
    "# trainData[['用户标识','topweb']].to_csv('/data/topic1/feature_topweb.csv',index=False)\n",
    "# testData[['用户标识','topweb']].to_csv('/data/topic1/feature_test_topweb.csv',index=False)"
   ]
  },
  {
   "cell_type": "markdown",
   "metadata": {},
   "source": [
    "## top app group"
   ]
  },
  {
   "cell_type": "code",
   "execution_count": null,
   "metadata": {
    "collapsed": true
   },
   "outputs": [],
   "source": [
    "# trainData[['用户标识','maxgroup']].to_csv('/data/topic1/feature_maxgroup.csv',index=False)\n",
    "# testData[['用户标识','maxgroup']].to_csv('/data/topic1/feature_test_maxgroup.csv',index=False)"
   ]
  }
 ],
 "metadata": {
  "kernelspec": {
   "display_name": "Python 2",
   "language": "python",
   "name": "python2"
  },
  "language_info": {
   "codemirror_mode": {
    "name": "ipython",
    "version": 2
   },
   "file_extension": ".py",
   "mimetype": "text/x-python",
   "name": "python",
   "nbconvert_exporter": "python",
   "pygments_lexer": "ipython2",
   "version": "2.7.11"
  }
 },
 "nbformat": 4,
 "nbformat_minor": 0
}
