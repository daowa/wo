{
 "cells": [
  {
   "cell_type": "code",
   "execution_count": null,
   "metadata": {},
   "outputs": [],
   "source": [
    "import numpy as np\n",
    "import pandas as pd\n",
    "import lightgbm as lgb\n",
    "from sklearn.model_selection import train_test_split\n",
    "from sklearn.ensemble import GradientBoostingClassifier\n",
    "from sklearn.preprocessing import OneHotEncoder\n",
    "print 'march_import'"
   ]
  },
  {
   "cell_type": "code",
   "execution_count": null,
   "metadata": {
    "collapsed": true
   },
   "outputs": [],
   "source": [
    "# utils\n",
    "## chinese decode \n",
    "def cn(s):\n",
    "#     return s.decode('utf8')\n",
    "    return s\n",
    "## 字符串类型转换为类别的数字编码\n",
    "dict_short_url  = {'init':0} #和短地址一样，统一记录使用过的int\n",
    "dict_short_url_index = {0: 'init'}\n",
    "def getShortUrl(s):\n",
    "    # 未记录，则添加记录\n",
    "    if dict_short_url.has_key(s) == False:\n",
    "        dict_short_url[s] = max(dict_short_url.values())+1\n",
    "        dict_short_url_index[dict_short_url[s]] = s\n",
    "    return dict_short_url[s]"
   ]
  },
  {
   "cell_type": "code",
   "execution_count": null,
   "metadata": {},
   "outputs": [],
   "source": [
    "# read data\n",
    "# trainData means rawdata, X_train means cross_validation data\n",
    "trainData = pd.merge(pd.read_csv('/data/topic1/ensemble_train_x.csv'), pd.read_csv('/data/topic1/ensemble_train_y.csv'), on='用户标识')\n",
    "testData = pd.read_csv('/data/topic1/ensemble_test_x.csv')\n",
    "print 'march_load_data'"
   ]
  },
  {
   "cell_type": "code",
   "execution_count": null,
   "metadata": {
    "collapsed": true
   },
   "outputs": [],
   "source": [
    "# 读入外部特征\n",
    "trainData = pd.merge(trainData, pd.read_csv('/data/topic1/feature_countapppv.csv'), on='用户标识')\n",
    "trainData = pd.merge(trainData, pd.read_csv('/data/topic1/feature_countapp.csv'), on='用户标识')\n",
    "trainData = pd.merge(trainData, pd.read_csv('/data/topic1/feature_countoutprovince.csv'), on='用户标识')\n",
    "trainData = pd.merge(trainData, pd.read_csv('/data/topic1/feature_countwebpv.csv'), on='用户标识')\n",
    "trainData = pd.merge(trainData, pd.read_csv('/data/topic1/feature_countweb.csv'), on='用户标识')\n",
    "testData = pd.merge(testData, pd.read_csv('/data/topic1/feature_countapppv.csv'), on='用户标识')\n",
    "testData = pd.merge(testData, pd.read_csv('/data/topic1/feature_countapp.csv'), on='用户标识')\n",
    "testData = pd.merge(testData, pd.read_csv('/data/topic1/feature_countoutprovince.csv'), on='用户标识')\n",
    "testData = pd.merge(testData, pd.read_csv('/data/topic1/feature_countwebpv.csv'), on='用户标识')\n",
    "testData = pd.merge(testData, pd.read_csv('/data/topic1/feature_countweb.csv'), on='用户标识')\n",
    "print 'march_external_feature'"
   ]
  },
  {
   "cell_type": "code",
   "execution_count": null,
   "metadata": {
    "collapsed": true
   },
   "outputs": [],
   "source": [
    "# 内部特征\n",
    "trainData['phone_brand'] = trainData[cn('手机品牌')].apply(getShortUrl)\n",
    "trainData['phone_model_number'] = trainData[cn('手机终端型号')].apply(getShortUrl)\n",
    "trainData['if_cross_province'] = trainData[cn('是否有跨省行为')].apply(getShortUrl)\n",
    "trainData['if_cross_conuntry'] = trainData[cn('是否有出境行为')].apply(getShortUrl)\n",
    "testData['phone_brand'] = testData[cn('手机品牌')].apply(getShortUrl)\n",
    "testData['phone_model_number'] = testData[cn('手机终端型号')].apply(getShortUrl)\n",
    "testData['if_cross_province'] = testData[cn('是否有跨省行为')].apply(getShortUrl)\n",
    "testData['if_cross_conuntry'] = testData[cn('是否有出境行为')].apply(getShortUrl)\n",
    "trainData.drop([cn('手机品牌'), cn('是否有跨省行为'), cn('是否有出境行为'), cn('漫入省份'), cn('漫出省份'), cn('手机终端型号')], axis=1, inplace=True)\n",
    "testData.drop([cn('手机品牌'), cn('是否有跨省行为'), cn('是否有出境行为'), cn('漫入省份'), cn('漫出省份'), cn('手机终端型号')], axis=1, inplace=True)\n",
    "print 'march_inner_feature'"
   ]
  },
  {
   "cell_type": "markdown",
   "metadata": {},
   "source": [
    "## 数据预处理 "
   ]
  },
  {
   "cell_type": "code",
   "execution_count": null,
   "metadata": {},
   "outputs": [],
   "source": [
    "# 缺失值处理\n",
    "trainData.fillna(0, inplace=True)\n",
    "testData.fillna(0, inplace=True)\n",
    "print 'march_data_done'"
   ]
  },
  {
   "cell_type": "markdown",
   "metadata": {},
   "source": [
    "## 模型训练"
   ]
  },
  {
   "cell_type": "code",
   "execution_count": null,
   "metadata": {
    "collapsed": true
   },
   "outputs": [],
   "source": [
    "# 修改列名， lgb不支持中文列名\n",
    "dict_new_columns = {}\n",
    "for i in trainData.drop([cn('用户标识'),cn('是否去过迪士尼')],axis=1).columns:\n",
    "    dict_new_columns[i] = str(getShortUrl(i))\n",
    "trainData.rename(columns=dict_new_columns, inplace = True)\n",
    "testData.rename(columns=dict_new_columns, inplace = True)"
   ]
  },
  {
   "cell_type": "code",
   "execution_count": null,
   "metadata": {
    "collapsed": true
   },
   "outputs": [],
   "source": [
    "# 声明类别变量\n",
    "temp_categorical_feature = [cn('性别'),cn('大致消费水平'),'phone_brand','phone_model_number','if_cross_province','if_cross_conuntry']\n",
    "list_categorical_feature = [str(dict_short_url[item]) for item in temp_categorical_feature]"
   ]
  },
  {
   "cell_type": "code",
   "execution_count": null,
   "metadata": {},
   "outputs": [],
   "source": [
    "print 'march_init_model'\n",
    "train_data = lgb.Dataset(trainData.drop([cn('用户标识'),cn('是否去过迪士尼')],axis=1).values, label=trainData[cn('是否去过迪士尼')], feature_name=list(trainData.drop([cn('用户标识'),cn('是否去过迪士尼')],axis=1).columns), categorical_feature=list_categorical_feature)\n",
    "param = {'num_leaves':63, 'num_trees':1000, 'objective':'binary', 'metric':'auc'}\n",
    "# bst=lgb.cv(param, train_data, num_boost_round=100, nfold=3, early_stopping_rounds=30)\n",
    "# bst = lgb.train(param, train_data, num_boost_round=100)\n",
    "bst = lgb.train(param, train_data, num_boost_round=69)\n",
    "ypred = bst.predict(testData.drop([cn('用户标识')],axis=1).values)\n",
    "print 'march_model_done'"
   ]
  },
  {
   "cell_type": "code",
   "execution_count": null,
   "metadata": {
    "collapsed": true
   },
   "outputs": [],
   "source": [
    "# 输出csv结果\n",
    "output = pd.DataFrame({'IMEI': testData[cn('用户标识')].values,'SCORE':ypred})\n",
    "# output.to_csv('E:\\\\work\\\\wo+\\\\data\\\\1\\\\result.csv', index=False, float_format='%.5f')\n",
    "output.to_csv('/data/topic1/ensemble_result_lgb.csv', index=False, float_format='%.5f')"
   ]
  },
  {
   "cell_type": "code",
   "execution_count": null,
   "metadata": {
    "collapsed": true
   },
   "outputs": [],
   "source": []
  }
 ],
 "metadata": {
  "kernelspec": {
   "display_name": "Python 2",
   "language": "python",
   "name": "python2"
  },
  "language_info": {
   "codemirror_mode": {
    "name": "ipython",
    "version": 2
   },
   "file_extension": ".py",
   "mimetype": "text/x-python",
   "name": "python",
   "nbconvert_exporter": "python",
   "pygments_lexer": "ipython2",
   "version": "2.7.13"
  }
 },
 "nbformat": 4,
 "nbformat_minor": 2
}
