{
 "cells": [
  {
   "cell_type": "code",
   "execution_count": 1,
   "metadata": {
    "collapsed": true
   },
   "outputs": [],
   "source": [
    "import numpy as np\n",
    "import pandas as pd\n",
    "from sklearn import metrics\n",
    "from sklearn.metrics import roc_auc_score"
   ]
  },
  {
   "cell_type": "markdown",
   "metadata": {},
   "source": [
    "## 计算每个模型的auc"
   ]
  },
  {
   "cell_type": "code",
   "execution_count": null,
   "metadata": {
    "collapsed": true
   },
   "outputs": [],
   "source": [
    "data_y = pd.read_csv('/data/topic1/ensemble_test_y.csv')"
   ]
  },
  {
   "cell_type": "code",
   "execution_count": null,
   "metadata": {
    "collapsed": true
   },
   "outputs": [],
   "source": [
    "# lgb\n",
    "data_lgb = pd.read_csv('/data/topic1/ensemble_result_lgb.csv')\n",
    "data_lgb.rename(columns={'IMEI':'用户标识', 'SCORE':'lgb'}, inplace=True)\n",
    "ypred = data_lgb['lgb']\n",
    "print '######## lgb #########'\n",
    "print metrics.classification_report(y_test, ypred>0.5)\n",
    "print roc_auc_score(list(data_y['是否去过迪士尼']), ypred)\n",
    "print '######################'"
   ]
  },
  {
   "cell_type": "code",
   "execution_count": null,
   "metadata": {
    "collapsed": true
   },
   "outputs": [],
   "source": [
    "# gbdt_lgb\n",
    "data_gbdt_lgb = pd.read_csv('/data/topic1/ensemble_result_gbdt_lgb.csv')\n",
    "data_gbdt_lgb.rename(columns={'IMEI':'用户标识', 'SCORE':'gbdt_lgb'}, inplace=True)\n",
    "ypred = data_gbdt_lgb['gbdt_lgb']\n",
    "print '######## gbdt_lgb #########'\n",
    "print metrics.classification_report(y_test, ypred>0.5)\n",
    "print roc_auc_score(list(data_y['是否去过迪士尼']), ypred)\n",
    "print '######################'"
   ]
  },
  {
   "cell_type": "code",
   "execution_count": null,
   "metadata": {
    "collapsed": true
   },
   "outputs": [],
   "source": [
    "# gbdt_xgb\n",
    "data_gbdt_xgb = pd.read_csv('/data/topic1/ensemble_result_gbdt_xgb.csv')\n",
    "data_gbdt_xgb.rename(columns={'IMEI':'用户标识', 'SCORE':'gbdt_xgb'}, inplace=True)\n",
    "ypred = data_gbdt_xgb['gbdt_xgb']\n",
    "print '######## gbdt_xgb #########'\n",
    "print metrics.classification_report(y_test, ypred>0.5)\n",
    "print roc_auc_score(list(data_y['是否去过迪士尼']), ypred)\n",
    "print '######################'"
   ]
  },
  {
   "cell_type": "code",
   "execution_count": null,
   "metadata": {
    "collapsed": true
   },
   "outputs": [],
   "source": [
    "# gbdt_lr\n",
    "data_gbdt_lr = pd.read_csv('/data/topic1/ensemble_result_gbdt_lr.csv')\n",
    "data_gbdt_lr.rename(columns={'IMEI':'用户标识', 'SCORE':'gbdt_lr'}, inplace=True)\n",
    "ypred = data_gbdt_lr['gbdt_lr']\n",
    "print '######## gbdt_lr #########'\n",
    "print metrics.classification_report(y_test, ypred>0.5)\n",
    "print roc_auc_score(list(data_y['是否去过迪士尼']), ypred)\n",
    "print '######################'"
   ]
  },
  {
   "cell_type": "markdown",
   "metadata": {},
   "source": [
    "## 训练ensemble的分类器"
   ]
  },
  {
   "cell_type": "code",
   "execution_count": null,
   "metadata": {
    "collapsed": true
   },
   "outputs": [],
   "source": [
    "# 训练\n",
    "import lightgbm as lgb\n",
    "from sklearn.model_selection import train_test_split\n",
    "data = pd.merge(data_lgb, data_gbdt_lgb, on='用户标识')\n",
    "data = pd.merge(data, data_gbdt_xgb, on='用户标识')\n",
    "# data = pd.merge(data, data_gbdt_lr, on='用户标识')\n",
    "X_train, X_test, y_train, y_test = train_test_split(data.drop(['用户标识'], axis=1), data_y, test_size=0.3)"
   ]
  },
  {
   "cell_type": "code",
   "execution_count": null,
   "metadata": {
    "collapsed": true
   },
   "outputs": [],
   "source": [
    "# lgb做分类器\n",
    "train_data = lgb.Dataset(X_train.values, label=y_train['是否去过迪士尼'])\n",
    "test_data = lgb.Dataset(X_test.values, label=y_test['是否去过迪士尼'])\n",
    "param = {'num_leaves':15, 'num_trees':100, 'objective':' lambdarank', 'metric':'auc'}\n",
    "# bst=lgb.cv(param, train_data, num_boost_round=100, nfold=3, early_stopping_rounds=30)\n",
    "# bst = lgb.train(param, train_data, num_boost_round=100)\n",
    "bst = lgb.train(param, train_data, valid_sets=test_data, num_boost_round=22)\n",
    "ypred = bst.predict(X_test.values)\n",
    "print roc_auc_score(y_test['是否去过迪士尼'], ypred)"
   ]
  },
  {
   "cell_type": "code",
   "execution_count": null,
   "metadata": {
    "collapsed": true
   },
   "outputs": [],
   "source": [
    "# lr做分类器\n",
    "from sklearn import linear_model\n",
    "grd_lm = linear_model.LogisticRegressionCV(Cs=10, penalty='l2', tol=1e-6, n_jobs=-1, cv=3)\n",
    "grd_lm.fit(X_train.values, y_train['是否去过迪士尼'])\n",
    "ypred = grd_lm.predict_proba(X_test.values)[:, 1]\n",
    "print roc_auc_score(y_test['是否去过迪士尼'], ypred>0.5)"
   ]
  },
  {
   "cell_type": "code",
   "execution_count": null,
   "metadata": {
    "collapsed": true
   },
   "outputs": [],
   "source": [
    "# 保存分类器"
   ]
  },
  {
   "cell_type": "code",
   "execution_count": null,
   "metadata": {
    "collapsed": true
   },
   "outputs": [],
   "source": [
    "# 所有数据,lgb做分类器\n",
    "train_data = lgb.Dataset(data.drop(['用户标识'], axis=1).values, label=data_y['是否去过迪士尼'])\n",
    "param = {'num_leaves':15, 'num_trees':100, 'objective':' lambdarank', 'metric':'auc'}\n",
    "bst = lgb.train(param, train_data, num_boost_round=22)\n",
    "ypred = bst.predict(data.drop(['用户标识'], axis=1).values)\n",
    "print roc_auc_score(data_y['是否去过迪士尼'], ypred)"
   ]
  },
  {
   "cell_type": "code",
   "execution_count": null,
   "metadata": {
    "collapsed": true
   },
   "outputs": [],
   "source": [
    "# 对线上结果进行输出\n",
    "data_lgb = pd.read_csv('/data/topic1/result_lgb.csv')\n",
    "data_lgb.rename(columns={'IMEI':'用户标识', 'SCORE':'lgb'}, inplace=True)\n",
    "data_gbdt_lgb = pd.read_csv('/data/topic1/result_gbdt_lgb.csv')\n",
    "data_gbdt_lgb.rename(columns={'IMEI':'用户标识', 'SCORE':'gbdt_lgb'}, inplace=True)\n",
    "data_gbdt_xgb = pd.read_csv('/data/topic1/result_gbdt_xgb.csv')\n",
    "data_gbdt_xgb.rename(columns={'IMEI':'用户标识', 'SCORE':'gbdt_xgb'}, inplace=True)\n",
    "data = pd.merge(data_lgb, data_gbdt_lgb, on='用户标识')\n",
    "data = pd.merge(data, data_gbdt_xgb, on='用户标识')\n",
    "ypred = bst.predict(data.drop(['用户标识'], axis=1).values)\n",
    "output = pd.DataFrame({'IMEI': data['用户标识'].values,'SCORE':ypred})\n",
    "output.to_csv('/data/topic1/result_ensemble.csv', index=False, float_format='%.5f')"
   ]
  },
  {
   "cell_type": "code",
   "execution_count": null,
   "metadata": {
    "collapsed": true
   },
   "outputs": [],
   "source": [
    "## 其它\n",
    "### 测试\n",
    "temp = pd.merge(y_test, data_lgb, on='用户标识')\n",
    "print roc_auc_score(temp['是否去过迪士尼'], temp['gbdt_lgb'])"
   ]
  }
 ],
 "metadata": {
  "kernelspec": {
   "display_name": "Python 2",
   "language": "python",
   "name": "python2"
  },
  "language_info": {
   "codemirror_mode": {
    "name": "ipython",
    "version": 2
   },
   "file_extension": ".py",
   "mimetype": "text/x-python",
   "name": "python",
   "nbconvert_exporter": "python",
   "pygments_lexer": "ipython2",
   "version": "2.7.11"
  }
 },
 "nbformat": 4,
 "nbformat_minor": 0
}
