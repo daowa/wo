{
 "cells": [
  {
   "cell_type": "code",
   "execution_count": null,
   "metadata": {
    "collapsed": false
   },
   "outputs": [],
   "source": [
    "import numpy as np\n",
    "import pandas as pd\n",
    "import lightgbm as lgb\n",
    "from sklearn.model_selection import train_test_split\n",
    "from sklearn.ensemble import GradientBoostingClassifier\n",
    "from sklearn.preprocessing import OneHotEncoder\n",
    "from sklearn import linear_model"
   ]
  },
  {
   "cell_type": "code",
   "execution_count": null,
   "metadata": {
    "collapsed": true
   },
   "outputs": [],
   "source": [
    "# utils\n",
    "## chinese decode \n",
    "def cn(s):\n",
    "#     return s.decode('utf8')\n",
    "    return s\n",
    "## 字符串类型转换为类别的数字编码\n",
    "dict_short_url  = {'init':0} #和短地址一样，统一记录使用过的int\n",
    "dict_short_url_index = {0: 'init'}\n",
    "def getShortUrl(s):\n",
    "    # 未记录，则添加记录\n",
    "    if dict_short_url.has_key(s) == False:\n",
    "        dict_short_url[s] = max(dict_short_url.values())+1\n",
    "        dict_short_url_index[dict_short_url[s]] = s\n",
    "    return dict_short_url[s]"
   ]
  },
  {
   "cell_type": "code",
   "execution_count": null,
   "metadata": {
    "collapsed": false
   },
   "outputs": [],
   "source": [
    "# read data\n",
    "# trainData means rawdata, X_train means cross_validation data\n",
    "trainData = pd.merge(pd.read_csv('/data/topic1/ensemble_train_x.csv'), pd.read_csv('/data/topic1/ensemble_train_y.csv'), on='用户标识')\n",
    "testData = pd.read_csv('/data/topic1/ensemble_test_x.csv')"
   ]
  },
  {
   "cell_type": "code",
   "execution_count": null,
   "metadata": {
    "collapsed": false
   },
   "outputs": [],
   "source": [
    "# 读入外部特征\n",
    "trainData = pd.merge(trainData, pd.read_csv('/data/topic1/feature_countapppv.csv'), on='用户标识')\n",
    "trainData = pd.merge(trainData, pd.read_csv('/data/topic1/feature_countapp.csv'), on='用户标识')\n",
    "trainData = pd.merge(trainData, pd.read_csv('/data/topic1/feature_countoutprovince.csv'), on='用户标识')\n",
    "trainData = pd.merge(trainData, pd.read_csv('/data/topic1/feature_countwebpv.csv'), on='用户标识')\n",
    "# trainData = pd.merge(trainData, pd.read_csv('/data/topic1/feature_countweb.csv'), on='用户标识')\n",
    "testData = pd.merge(testData, pd.read_csv('/data/topic1/feature_countapppv.csv'), on='用户标识')\n",
    "testData = pd.merge(testData, pd.read_csv('/data/topic1/feature_countapp.csv'), on='用户标识')\n",
    "testData = pd.merge(testData, pd.read_csv('/data/topic1/feature_countoutprovince.csv'), on='用户标识')\n",
    "testData = pd.merge(testData, pd.read_csv('/data/topic1/feature_countwebpv.csv'), on='用户标识')\n",
    "# testData = pd.merge(testData, pd.read_csv('/data/topic1/feature_countweb.csv'), on='用户标识')\n",
    "print 'march_external_feature'"
   ]
  },
  {
   "cell_type": "code",
   "execution_count": null,
   "metadata": {
    "collapsed": false
   },
   "outputs": [],
   "source": [
    "# 内部特征\n",
    "trainData['phone_brand'] = trainData[cn('手机品牌')].apply(getShortUrl)\n",
    "trainData['phone_model_number'] = trainData[cn('手机终端型号')].apply(getShortUrl)\n",
    "trainData['if_cross_province'] = trainData[cn('是否有跨省行为')].apply(getShortUrl)\n",
    "trainData['if_cross_conuntry'] = trainData[cn('是否有出境行为')].apply(getShortUrl)\n",
    "testData['phone_brand'] = testData[cn('手机品牌')].apply(getShortUrl)\n",
    "testData['phone_model_number'] = testData[cn('手机终端型号')].apply(getShortUrl)\n",
    "testData['if_cross_province'] = testData[cn('是否有跨省行为')].apply(getShortUrl)\n",
    "testData['if_cross_conuntry'] = testData[cn('是否有出境行为')].apply(getShortUrl)\n",
    "trainData.drop([cn('手机品牌'), cn('是否有跨省行为'), cn('是否有出境行为'), cn('漫入省份'), cn('漫出省份'), cn('手机终端型号')], axis=1, inplace=True)\n",
    "testData.drop([cn('手机品牌'), cn('是否有跨省行为'), cn('是否有出境行为'), cn('漫入省份'), cn('漫出省份'), cn('手机终端型号')], axis=1, inplace=True)\n",
    "print 'march_inner_feature'"
   ]
  },
  {
   "cell_type": "code",
   "execution_count": null,
   "metadata": {
    "collapsed": true
   },
   "outputs": [],
   "source": [
    "# 缺失值处理\n",
    "trainData.fillna(0, inplace=True)\n",
    "testData.fillna(0, inplace=True)"
   ]
  },
  {
   "cell_type": "code",
   "execution_count": null,
   "metadata": {
    "collapsed": false
   },
   "outputs": [],
   "source": [
    "# 类别变量onehot化(未做)\n",
    "categorical_features = [cn('性别'),cn('大致消费水平'),'phone_brand','if_cross_province', 'phone_model_number', 'if_cross_conuntry']\n",
    "enc = OneHotEncoder() \n",
    "enc.fit_transform(trainData[categorical_features])"
   ]
  },
  {
   "cell_type": "markdown",
   "metadata": {},
   "source": [
    "## gbdt生成交叉特征"
   ]
  },
  {
   "cell_type": "code",
   "execution_count": null,
   "metadata": {
    "collapsed": false
   },
   "outputs": [],
   "source": [
    "# 不区分gbdt的数据和lgb的数据（会存在过拟合）\n",
    "grd = GradientBoostingClassifier(n_estimators=100,learning_rate=0.1, max_depth=8,max_features='sqrt',subsample=0.9)\n",
    "grd.fit(trainData.drop([cn('用户标识'),cn('是否去过迪士尼')],axis=1), trainData[cn('是否去过迪士尼')])\n",
    "grd_enc = OneHotEncoder() #one-hot编码 \n",
    "grd_enc.fit(grd.apply(trainData.drop([cn('用户标识'),cn('是否去过迪士尼')],axis=1))[:, :, 0]) #每个数据，在每棵树，叶节点index"
   ]
  },
  {
   "cell_type": "markdown",
   "metadata": {},
   "source": [
    "## 分类器训练"
   ]
  },
  {
   "cell_type": "markdown",
   "metadata": {},
   "source": [
    "### lgb做分类器"
   ]
  },
  {
   "cell_type": "code",
   "execution_count": null,
   "metadata": {
    "collapsed": true
   },
   "outputs": [],
   "source": [
    "# 使用训练好的GBDT模型构建特征，然后将特征经过one-hot编码作为新的特征输入到lgb模型训练。\n",
    "train_data = lgb.Dataset(grd_enc.transform(grd.apply(trainData.drop([cn('用户标识'),cn('是否去过迪士尼')],axis=1))[:, :, 0]), label=trainData[cn('是否去过迪士尼')])\n",
    "param = {'num_leaves':63, 'num_trees':1000, 'metric':'auc'}\n",
    "bst = lgb.train(param, train_data, num_boost_round=100)\n",
    "ypred = bst.predict(grd_enc.transform(grd.apply(testData.drop([cn('用户标识')],axis=1))[:, :, 0]))\n",
    "# # 使用训练好的GBDT模型构建特征，然后将特征经过one-hot编码作为新的特征输入到lgb模型训练。\n",
    "# train_data = lgb.Dataset(grd_enc.transform(grd.apply(trainData.drop([cn('用户标识'),cn('是否去过迪士尼')],axis=1))[:, :, 0]), trainData[cn('是否去过迪士尼')])\n",
    "# param = {'num_leaves':63, 'num_trees':1000, 'objective':'binary', 'metric':'auc'}\n",
    "# bst = lgb.train(param, train_data, num_boost_round=100)\n",
    "# ypred = bst.predict(grd_enc.transform(grd.apply(testData.drop([cn('用户标识')],axis=1))[:, :, 0]))"
   ]
  },
  {
   "cell_type": "code",
   "execution_count": null,
   "metadata": {
    "collapsed": true
   },
   "outputs": [],
   "source": [
    "# 输出csv结果\n",
    "output = pd.DataFrame({'IMEI': testData[cn('用户标识')].values,'SCORE':ypred})\n",
    "# output.to_csv(cn('E:\\\\work\\\\联通+旅游\\\\data\\\\1\\\\result.csv'), index=False, float_format='%.5f', encoding=\"gb2312\")\n",
    "output.to_csv('/data/topic1/ensemble_result_gbdt_lgb.csv', index=False, float_format='%.5f', encoding=\"gb2312\")"
   ]
  },
  {
   "cell_type": "markdown",
   "metadata": {},
   "source": [
    "### xgb做分类器"
   ]
  },
  {
   "cell_type": "code",
   "execution_count": null,
   "metadata": {
    "collapsed": true
   },
   "outputs": [],
   "source": [
    "import xgboost as xgb\n",
    "xlf = xgb.XGBRegressor(max_depth=8, \n",
    "                        learning_rate=0.1, \n",
    "                        n_estimators=100, \n",
    "                        silent=False, \n",
    "                        objective='reg:linear', \n",
    "                        nthread=-1, \n",
    "                        gamma=0,\n",
    "                        min_child_weight=1, \n",
    "                        max_delta_step=0, \n",
    "                        subsample=0.9, \n",
    "                        colsample_bytree=0.7, \n",
    "                        colsample_bylevel=1, \n",
    "                        reg_alpha=0, \n",
    "                        reg_lambda=1, \n",
    "                        objective = 'rank:pairwise',\n",
    "                        scale_pos_weight=1, \n",
    "                        missing=None)\n",
    "xlf.fit(grd_enc.transform(grd.apply(trainData.drop([cn('用户标识'),cn('是否去过迪士尼')],axis=1))[:, :, 0]), trainData[cn('是否去过迪士尼')], eval_metric='auc', verbose = True)\n",
    "ypred = xlf.predict(grd_enc.transform(grd.apply(testData.drop([cn('用户标识')],axis=1))[:, :, 0]))"
   ]
  },
  {
   "cell_type": "code",
   "execution_count": null,
   "metadata": {
    "collapsed": true
   },
   "outputs": [],
   "source": [
    "# 输出csv结果\n",
    "output = pd.DataFrame({'IMEI': testData[cn('用户标识')].values,'SCORE':ypred})\n",
    "# output.to_csv(cn('E:\\\\work\\\\联通+旅游\\\\data\\\\1\\\\result.csv'), index=False, float_format='%.5f', encoding=\"gb2312\")\n",
    "output.to_csv('/data/topic1/ensemble_result_gbdt_xgb.csv', index=False, float_format='%.5f', encoding=\"gb2312\")"
   ]
  },
  {
   "cell_type": "markdown",
   "metadata": {},
   "source": [
    "### lr做分类器"
   ]
  },
  {
   "cell_type": "code",
   "execution_count": null,
   "metadata": {
    "collapsed": true
   },
   "outputs": [],
   "source": [
    "grd_lm = linear_model.LogisticRegressionCV(Cs=10, penalty='l2', tol=1e-6, n_jobs=-1, cv=3)\n",
    "grd_lm.fit(grd_enc.transform(grd.apply(trainData.drop([cn('用户标识'),cn('是否去过迪士尼')],axis=1))[:, :, 0]), trainData[cn('是否去过迪士尼')])\n",
    "ypred = grd_lm.predict_proba(grd_enc.transform(grd.apply(testData.drop([cn('用户标识')],axis=1))[:, :, 0]))[:, 1]"
   ]
  },
  {
   "cell_type": "code",
   "execution_count": null,
   "metadata": {
    "collapsed": true
   },
   "outputs": [],
   "source": [
    "# 输出csv结果\n",
    "output = pd.DataFrame({'IMEI': testData[cn('用户标识')].values,'SCORE':ypred})\n",
    "# output.to_csv(cn('E:\\\\work\\\\联通+旅游\\\\data\\\\1\\\\result.csv'), index=False, float_format='%.5f', encoding=\"gb2312\")\n",
    "output.to_csv('/data/topic1/ensemble_result_gbdt_lr.csv', index=False, float_format='%.5f', encoding=\"gb2312\")"
   ]
  }
 ],
 "metadata": {
  "kernelspec": {
   "display_name": "Python 2",
   "language": "python",
   "name": "python2"
  },
  "language_info": {
   "codemirror_mode": {
    "name": "ipython",
    "version": 2
   },
   "file_extension": ".py",
   "mimetype": "text/x-python",
   "name": "python",
   "nbconvert_exporter": "python",
   "pygments_lexer": "ipython2",
   "version": "2.7.11"
  }
 },
 "nbformat": 4,
 "nbformat_minor": 1
}
