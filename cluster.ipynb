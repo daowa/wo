{
 "cells": [
  {
   "cell_type": "code",
   "execution_count": 1,
   "metadata": {
    "collapsed": true
   },
   "outputs": [],
   "source": [
    "import numpy as np\n",
    "import pandas as pd\n",
    "from sklearn.cluster import KMeans\n",
    "from sklearn.preprocessing import Binarizer\n",
    "from sklearn import preprocessing\n",
    "from sklearn.decomposition import PCA, KernelPCA\n",
    "from sklearn.feature_selection import VarianceThreshold"
   ]
  },
  {
   "cell_type": "code",
   "execution_count": null,
   "metadata": {
    "collapsed": true
   },
   "outputs": [],
   "source": [
    "def km(x,k,b):\n",
    "    \"\"\" kmeans聚类, 我用 k=6,b=1\n",
    "    \n",
    "    Args:\n",
    "        x (np.array): numpy数组，N*D\n",
    "        k (int): 聚类数量\n",
    "        b (int): 二值化阈值\n",
    "    \n",
    "    Returns:\n",
    "        TYPE: skelearn.model对象\n",
    "    \"\"\" \n",
    "    model = KMeans(n_clusters=k, n_init=1, init='random')\n",
    "    model = model.fit(Binarizer(threshold=b).fit_transform(x))  # 二值化\n",
    "    labels = model.labels_\n",
    "    return model"
   ]
  },
  {
   "cell_type": "code",
   "execution_count": null,
   "metadata": {
    "collapsed": true
   },
   "outputs": [],
   "source": [
    "def save_cluster(x,k,model):\n",
    "    \"\"\" 保存每个类别的样本到文件\n",
    "    \n",
    "    Args:\n",
    "        x (np.array): 原始数据集\n",
    "        k (int): 聚类数量\n",
    "        model (sklearn.kmeans): keans模型\n",
    "    \"\"\"\n",
    "    for i in range(k):\n",
    "        index = np.squeeze(np.argwhere(model.labels_==k))\n",
    "        data = x.ix[index,:]\n",
    "        data.to_csv(str(i)+'.txt')"
   ]
  },
  {
   "cell_type": "markdown",
   "metadata": {},
   "source": [
    "## app聚类（线上用测试集聚类）"
   ]
  },
  {
   "cell_type": "code",
   "execution_count": null,
   "metadata": {
    "collapsed": true
   },
   "outputs": [],
   "source": [
    "# 读取数据，用测试集训练聚类\n",
    "data = pd.read_csv('/data/topic1/test_x.csv')\n",
    "x = data[data.columns[8:308]].values # 转为 np.array\n",
    "model = KMeans(n_clusters=20, n_init=5, init='random')\n",
    "model = model.fit(Binarizer(threshold=1).fit_transform(x))  # 二值化"
   ]
  },
  {
   "cell_type": "code",
   "execution_count": null,
   "metadata": {
    "collapsed": true
   },
   "outputs": [],
   "source": [
    "# 输出每个类的数量\n",
    "for i in range(10):\n",
    "    print str(i) + ':' + str(len(np.squeeze(np.argwhere(model.labels_==i))))"
   ]
  },
  {
   "cell_type": "code",
   "execution_count": null,
   "metadata": {
    "collapsed": true
   },
   "outputs": [],
   "source": [
    "# 输出为特征\n",
    "trainData = pd.read_csv('/data/topic1/train_x.csv')\n",
    "testData = pd.read_csv('/data/topic1/test_x.csv')\n",
    "trainData['cluster'] = model.predict(trainData[trainData.columns[8:308]])\n",
    "testData['cluster'] = model.predict(testData[testData.columns[8:308]])\n",
    "trainData[['用户标识','cluster']].to_csv('/data/topic1/feature_cluster.csv', index=False)\n",
    "testData[['用户标识','cluster']].to_csv('/data/topic1/feature_test_cluster.csv', index=False)"
   ]
  },
  {
   "cell_type": "markdown",
   "metadata": {},
   "source": [
    "## web聚类（线上用训练集聚类）"
   ]
  },
  {
   "cell_type": "code",
   "execution_count": null,
   "metadata": {
    "collapsed": true
   },
   "outputs": [],
   "source": [
    "x = trainData[trainData.columns[1:-1]].values # 转为 np.array\n",
    "model = KMeans(n_clusters=20, n_init=5, init='random')\n",
    "model = model.fit(Binarizer(threshold=1).fit_transform(x))  # 二值化"
   ]
  },
  {
   "cell_type": "code",
   "execution_count": null,
   "metadata": {
    "collapsed": true
   },
   "outputs": [],
   "source": [
    "# 输出每个类的数量\n",
    "for i in range(10):\n",
    "    print str(i) + ':' + str(len(np.squeeze(np.argwhere(model.labels_==i))))"
   ]
  },
  {
   "cell_type": "code",
   "execution_count": null,
   "metadata": {
    "collapsed": true
   },
   "outputs": [],
   "source": [
    "# 输出为特征\n",
    "# trainData = pd.read_csv('/data/topic1/train_x.csv')\n",
    "testData = pd.read_csv('/data/topic1/test_x.csv')\n",
    "trainData['webcluster'] = model.predict(trainData[trainData.columns[313:]])\n",
    "testData['webcluster'] = model.predict(testData[testData.columns[313:]])\n",
    "trainData[['用户标识','webcluster']].to_csv('/data/topic1/feature_webcluster.csv', index=False)\n",
    "testData[['用户标识','webcluster']].to_csv('/data/topic1/feature_test_webcluster.csv', index=False)"
   ]
  }
 ],
 "metadata": {
  "kernelspec": {
   "display_name": "Python 2",
   "language": "python",
   "name": "python2"
  },
  "language_info": {
   "codemirror_mode": {
    "name": "ipython",
    "version": 2
   },
   "file_extension": ".py",
   "mimetype": "text/x-python",
   "name": "python",
   "nbconvert_exporter": "python",
   "pygments_lexer": "ipython2",
   "version": "2.7.13"
  }
 },
 "nbformat": 4,
 "nbformat_minor": 1
}
